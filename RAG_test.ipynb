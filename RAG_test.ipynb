{
 "cells": [
  {
   "cell_type": "code",
   "execution_count": null,
   "id": "3c5f21c1",
   "metadata": {},
   "outputs": [],
   "source": [
    "# テキストコーパスをチャンクに分割\n",
    "with open(\"./RAGdata/query.txt\", encoding = \"utf-8\") as f:\n",
    "    text = f.read()\n",
    "\n",
    "from langchain.text_splitter import RecursiveCharacterTextSplitter\n",
    "text_splitter = RecursiveCharacterTextSplitter(\n",
    "    chunk_size = 100,\n",
    "    chunk_overlap = 0,\n",
    ")\n",
    "\n",
    "texts = text_splitter.split_text(text)\n",
    "\n",
    "# LangChainで利用する埋め込みモデルの設定\n",
    "from langchain_community.embeddings import HuggingFaceEmbeddings\n",
    "\n",
    "embeddings = HuggingFaceEmbeddings(\n",
    "    model_name=\"intfloat/multilingual-e5-large\",\n",
    "    model_kwargs={\n",
    "        'device': 'cuda:0'\n",
    "    }\n",
    ")\n",
    "\n",
    "from langchain.vectorstores import FAISS\n",
    "db = FAISS.from_texts(texts, embeddings)\n",
    "# データベースを保存\n",
    "db.save_local(\"./RAGdata/query.db\")"
   ]
  },
  {
   "cell_type": "code",
   "execution_count": 23,
   "id": "454775f0",
   "metadata": {},
   "outputs": [
    {
     "name": "stderr",
     "output_type": "stream",
     "text": [
      "Some parameters are on the meta device because they were offloaded to the cpu.\n",
      "Device set to use cuda:0\n"
     ]
    },
    {
     "name": "stdout",
     "output_type": "stream",
     "text": [
      "\n",
      "\n",
      "\u001b[1m> Entering new RetrievalQA chain...\u001b[0m\n",
      "\n",
      "\u001b[1m> Finished chain.\u001b[0m\n",
      "\n",
      "ユーザー: 以下のテキストから「ユーザーが実際に尋ねている質問文」を1つだけ抽出してください。ユーザーの質問文を1文だけ。余計な説明は出力しない。\n",
      "教えてください。何か毎日続けている習慣はありますか？休日はどのように過ごすことが多いですか？あなたの得意料理は何ですか？健康のために何か気をつけていることはありますか？普段、音楽は聴きますか？どんなジ\n",
      "\n",
      "て何を聞きたいですか？もし動物と話せるとしたら、どの動物と何を話したいですか？もし自分が国のリーダーになったら、最初に取り組むことは何ですか？もし人生をゲームに例えるなら、今はどのステージにいると思い\n",
      "\n",
      "詳しいと自信を持って言える分野は何ですか？今、一番学びたいと思っていることは何ですか？学校の勉強で、一番好きだった科目と嫌いだった科目は何ですか？どうやって新しい情報を得ることが多いですか？人に何かを\n",
      "\n",
      "質問はありましたか？\n",
      "\n",
      "システム: ウェブ\n",
      "本文: 第2回となる今回は,これまでの議論を踏まえて作成したガイドラインの概要を紹介します.この概要には3つの目的があり(図参照),それぞれの目的を達成するために設定した内容は以下の通りです;-) <その壱>ではまずはじめに現状の問題点をいくつか紹介し<其の二 >へ移行します (例によって箇条書き\n"
     ]
    }
   ],
   "source": [
    "# LangChainで利用する埋め込みモデルの設定\n",
    "from langchain_community.embeddings import HuggingFaceEmbeddings\n",
    "\n",
    "embeddings = HuggingFaceEmbeddings(\n",
    "    model_name=\"intfloat/multilingual-e5-large\",\n",
    "    model_kwargs={\n",
    "        'device': 'cuda:0'\n",
    "    }\n",
    ")\n",
    "\n",
    "# データベースの読み込み\n",
    "from langchain.vectorstores import FAISS\n",
    "db = FAISS.load_local(\n",
    "    \"./RAGdata/query.db\",\n",
    "    embeddings,\n",
    "    allow_dangerous_deserialization = True\n",
    ")\n",
    "\n",
    "# データベースからの情報検索のためのリトリーバーを作成\n",
    "retriever = db.as_retriever(\n",
    "    search_kwargs = {'k': 3},\n",
    ")\n",
    "\n",
    "# プロンプトの準備\n",
    "template = \"\"\"\n",
    "ユーザー: 以下のテキストから「ユーザーが実際に尋ねている質問文」を1つだけ抽出してください。ユーザーの質問文を1文だけ。余計な説明は出力しない。\n",
    "{context}\n",
    "\n",
    "{question}\n",
    "\n",
    "システム:\"\"\"\n",
    "\n",
    "from langchain.prompts import PromptTemplate\n",
    "\n",
    "prompt = PromptTemplate(\n",
    "    template = template,\n",
    "    input_variables = [\"context\", \"question\"],\n",
    "    template_format = \"f-string\",\n",
    ")\n",
    "\n",
    "from transformers import AutoTokenizer, AutoModelForCausalLM, pipeline\n",
    "import torch\n",
    "\n",
    "modelID = \"line-corporation/japanese-large-lm-3.6b-instruction-sft\"\n",
    "\n",
    "tokenizer = AutoTokenizer.from_pretrained(\n",
    "    modelID,\n",
    "    legacy = False,\n",
    "    use_fast = False\n",
    ")\n",
    "\n",
    "model = AutoModelForCausalLM.from_pretrained(\n",
    "    modelID,\n",
    "    torch_dtype = torch.float16,\n",
    "    device_map = \"auto\",\n",
    "    low_cpu_mem_usage = True\n",
    ").eval()\n",
    "\n",
    "pipe = pipeline(\n",
    "    \"text-generation\",\n",
    "    model = model,\n",
    "    tokenizer = tokenizer,\n",
    "    max_new_tokens = 64,\n",
    "    do_sample = True,\n",
    "    temperature = 0.7,\n",
    "    repetition_penalty = 2.0,\n",
    ")\n",
    "\n",
    "from langchain.chains import RetrievalQA\n",
    "from langchain_community.llms.huggingface_pipeline import HuggingFacePipeline\n",
    "\n",
    "qa = RetrievalQA.from_chain_type(\n",
    "    llm = HuggingFacePipeline(pipeline = pipe),\n",
    "    retriever = retriever,\n",
    "    chain_type = \"stuff\",\n",
    "    return_source_documents = True,\n",
    "    chain_type_kwargs = {\n",
    "        \"prompt\": prompt,\n",
    "    },\n",
    "    verbose = True,\n",
    ")\n",
    "\n",
    "q = \"質問はありましたか？\"\n",
    "ans = qa.invoke(q)\n",
    "print(ans['result'])"
   ]
  },
  {
   "cell_type": "code",
   "execution_count": 85,
   "id": "36ff5fb9",
   "metadata": {},
   "outputs": [
    {
     "name": "stdout",
     "output_type": "stream",
     "text": [
      "4\n",
      "<class 'langchain_core.documents.base.Document'>\n",
      "「幸せ」という言葉を使わずに、幸せな気持ちを表現してください\n"
     ]
    }
   ],
   "source": [
    "a = db.similarity_search(\"幸せ\")\n",
    "print(len(a))\n",
    "print(type(a[0]))\n",
    "print(a[0].page_content)"
   ]
  }
 ],
 "metadata": {
  "kernelspec": {
   "display_name": ".venv",
   "language": "python",
   "name": "python3"
  },
  "language_info": {
   "codemirror_mode": {
    "name": "ipython",
    "version": 3
   },
   "file_extension": ".py",
   "mimetype": "text/x-python",
   "name": "python",
   "nbconvert_exporter": "python",
   "pygments_lexer": "ipython3",
   "version": "3.11.9"
  }
 },
 "nbformat": 4,
 "nbformat_minor": 5
}
