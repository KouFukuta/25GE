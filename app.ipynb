{
 "cells": [
  {
   "cell_type": "markdown",
   "id": "05893677",
   "metadata": {},
   "source": [
    "仮想環境にはいる！\n",
    "source .venv/bin/activate\n",
    "\n",
    "Windows\n",
    "Set-ExecutionPolicy RemoteSigned -Scope CurrentUser\n",
    ".\\.venv\\Scripts\\activate"
   ]
  },
  {
   "cell_type": "code",
   "execution_count": 2,
   "id": "3a28f27f",
   "metadata": {},
   "outputs": [
    {
     "name": "stdout",
     "output_type": "stream",
     "text": [
      "MPS is available\n",
      "Using device: Apple Silicon (MPS)\n"
     ]
    }
   ],
   "source": [
    "import torch\n",
    "from transformers import AutoModelForCausalLM, AutoTokenizer\n",
    "\n",
    "# モデルのロード\n",
    "# modelName = \"cyberagent/open-calm-3b\"\n",
    "modelName = \"cyberagent/open-calm-small\"\n",
    "\n",
    "model = AutoModelForCausalLM.from_pretrained(\"tunedModels/LoRA/TEST/checkpoint-300\")\n",
    "tokenizer = AutoTokenizer.from_pretrained(modelName)\n",
    "\n",
    "#CUDAかMPSの確認\n",
    "#コンピュータにとって最適な環境を自動的に設定する\n",
    "if torch.cuda.is_available():\n",
    "    print(\"CUDA is available\")\n",
    "    device = torch.device(\"cuda\")\n",
    "    device_name = torch.cuda.get_device_name(0)\n",
    "    \n",
    "elif torch.backends.mps.is_available():\n",
    "    print(\"MPS is available\")\n",
    "    device = torch.device(\"mps\")\n",
    "    device_name = \"Apple Silicon (MPS)\"\n",
    "    \n",
    "else:\n",
    "    print(\"No CUDA or MPS support available\")\n",
    "    device = torch.device(\"cpu\")\n",
    "    device_name = \"CPU\"\n",
    "    \n",
    "print(f\"Using device: {device_name}\")"
   ]
  },
  {
   "cell_type": "code",
   "execution_count": 33,
   "id": "9f3e8b74",
   "metadata": {},
   "outputs": [
    {
     "name": "stderr",
     "output_type": "stream",
     "text": [
      "Setting `pad_token_id` to `eos_token_id`:0 for open-end generation.\n"
     ]
    },
    {
     "name": "stdout",
     "output_type": "stream",
     "text": [
      "質問をしてください。質問に答える形で、質問をしていきます。\n",
      "Q.  質問は、どのような内容ですか?A.                           \n"
     ]
    }
   ],
   "source": [
    "# プロンプトからテキストを生成する\n",
    "prompt = \"質問をしてください\"\n",
    "\n",
    "input = tokenizer(prompt, return_tensors=\"pt\")\n",
    "\n",
    "tokens = model.generate(\n",
    "    **input,\n",
    "    max_new_tokens=50,\n",
    "    do_sample=False,\n",
    ").to(device)\n",
    "\n",
    "output = tokenizer.decode(tokens[0], skip_special_tokens=True)\n",
    "\n",
    "print(output)"
   ]
  }
 ],
 "metadata": {
  "kernelspec": {
   "display_name": ".venv",
   "language": "python",
   "name": "python3"
  },
  "language_info": {
   "codemirror_mode": {
    "name": "ipython",
    "version": 3
   },
   "file_extension": ".py",
   "mimetype": "text/x-python",
   "name": "python",
   "nbconvert_exporter": "python",
   "pygments_lexer": "ipython3",
   "version": "3.11.0"
  }
 },
 "nbformat": 4,
 "nbformat_minor": 5
}
